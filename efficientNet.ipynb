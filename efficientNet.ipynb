{
 "cells": [
  {
   "cell_type": "code",
   "execution_count": 4,
   "metadata": {},
   "outputs": [],
   "source": [
    "import pandas as pd\n",
    "import tensorflow as tf\n",
    "from tensorflow.keras import layers, models\n",
    "from tensorflow.keras.preprocessing.image import ImageDataGenerator\n",
    "import numpy as np\n",
    "import cv2\n",
    "import os\n",
    "from tensorflow.keras.applications import EfficientNetV2M\n",
    "from tensorflow.keras.layers import Dense, GlobalAveragePooling2D, Flatten, Dropout\n",
    "from tensorflow.keras.models import Model\n",
    "from tensorflow.keras.preprocessing import image\n",
    "from tensorflow.keras.applications.resnet50 import preprocess_input, decode_predictions\n",
    "import numpy as np"
   ]
  },
  {
   "cell_type": "code",
   "execution_count": 2,
   "metadata": {},
   "outputs": [],
   "source": [
    "DROPOUT_RATE=0.2\n",
    "BATCH_SIZE = 32\n",
    "EPOCHS=10\n",
    "NUM_CLASSES = 2"
   ]
  },
  {
   "cell_type": "code",
   "execution_count": 5,
   "metadata": {},
   "outputs": [
    {
     "name": "stdout",
     "output_type": "stream",
     "text": [
      "Downloading data from https://storage.googleapis.com/tensorflow/keras-applications/efficientnet_v2/efficientnetv2-m_notop.h5\n",
      "214201816/214201816 [==============================] - 14s 0us/step\n",
      "Found 716 images belonging to 2 classes.\n",
      "Found 180 images belonging to 2 classes.\n",
      "Class Labels: ['nonsmoke', 'smoke']\n",
      "Epoch 1/10\n",
      "23/23 [==============================] - 595s 23s/step - loss: 8.5776 - accuracy: 0.5265 - val_loss: 1.5162 - val_accuracy: 0.5000\n",
      "Epoch 2/10\n",
      "23/23 [==============================] - 553s 24s/step - loss: 1.0213 - accuracy: 0.5908 - val_loss: 0.7496 - val_accuracy: 0.5667\n",
      "Epoch 3/10\n",
      "23/23 [==============================] - 511s 22s/step - loss: 0.5592 - accuracy: 0.7500 - val_loss: 0.4352 - val_accuracy: 0.8056\n",
      "Epoch 4/10\n",
      "23/23 [==============================] - 499s 22s/step - loss: 0.4394 - accuracy: 0.8031 - val_loss: 0.4637 - val_accuracy: 0.7944\n",
      "Epoch 5/10\n",
      "23/23 [==============================] - 494s 22s/step - loss: 0.4018 - accuracy: 0.8226 - val_loss: 0.3661 - val_accuracy: 0.8389\n",
      "Epoch 6/10\n",
      "23/23 [==============================] - 490s 21s/step - loss: 0.2706 - accuracy: 0.8883 - val_loss: 0.5637 - val_accuracy: 0.7444\n",
      "Epoch 7/10\n",
      "23/23 [==============================] - 484s 21s/step - loss: 0.2581 - accuracy: 0.9078 - val_loss: 0.8433 - val_accuracy: 0.6611\n",
      "Epoch 8/10\n",
      "23/23 [==============================] - 484s 21s/step - loss: 0.1864 - accuracy: 0.9288 - val_loss: 0.6244 - val_accuracy: 0.6611\n",
      "Epoch 9/10\n",
      "23/23 [==============================] - 480s 21s/step - loss: 0.1651 - accuracy: 0.9427 - val_loss: 0.5599 - val_accuracy: 0.8167\n",
      "Epoch 10/10\n",
      "23/23 [==============================] - 479s 21s/step - loss: 0.3233 - accuracy: 0.8869 - val_loss: 1.0729 - val_accuracy: 0.5056\n"
     ]
    },
    {
     "name": "stderr",
     "output_type": "stream",
     "text": [
      "C:\\Users\\DELL\\AppData\\Local\\Packages\\PythonSoftwareFoundation.Python.3.11_qbz5n2kfra8p0\\LocalCache\\local-packages\\Python311\\site-packages\\keras\\src\\engine\\training.py:3079: UserWarning: You are saving your model as an HDF5 file via `model.save()`. This file format is considered legacy. We recommend using instead the native Keras format, e.g. `model.save('my_model.keras')`.\n",
      "  saving_api.save_model(\n"
     ]
    }
   ],
   "source": [
    "\n",
    "base_model = EfficientNetV2M(\n",
    "    include_top=False, \n",
    "    weights='imagenet',\n",
    "    input_shape = (250,250,3)\n",
    "    )\n",
    "\n",
    "output_of_pretrained = base_model.output\n",
    "x = Flatten()(output_of_pretrained)\n",
    "x = Dense(2048, activation='relu', name='fc01')(x)\n",
    "x = Dropout(DROPOUT_RATE)(x)\n",
    "x = Dense(1024, activation='relu', name='fc02')(x)\n",
    "x = Dropout(DROPOUT_RATE)(x)\n",
    "\n",
    "predictions = Dense(NUM_CLASSES, activation='softmax')(x)\n",
    "\n",
    "model = Model(inputs = base_model.input, outputs = predictions, name='myModel')\n",
    "model.compile(optimizer='adam', loss='categorical_crossentropy', metrics=['accuracy'])\n",
    "\n",
    "train_datagenerator = ImageDataGenerator(\n",
    "    rescale = 1./255,\n",
    "    shear_range=0.2,\n",
    "    zoom_range=0.2,\n",
    "    horizontal_flip=True\n",
    ")\n",
    "validation_generator = ImageDataGenerator(\n",
    "    rescale=1./255\n",
    ")\n",
    "\n",
    "train_data = train_datagenerator.flow_from_directory(\n",
    "    directory = './divided_smoker_dataset/Training',\n",
    "    target_size = (250,250),\n",
    "    color_mode = 'rgb',\n",
    "    class_mode = 'categorical',\n",
    "    batch_size = BATCH_SIZE, \n",
    "    shuffle = True,\n",
    "    seed=42\n",
    ")\n",
    "test_data = validation_generator.flow_from_directory(\n",
    "    directory = './divided_smoker_dataset/Validation',\n",
    "    target_size = (250,250),\n",
    "    color_mode = 'rgb',\n",
    "    class_mode = 'categorical',\n",
    "    batch_size = BATCH_SIZE, \n",
    "    shuffle = False\n",
    ")\n",
    "class_labels = list(train_data.class_indices.keys())\n",
    "print(\"Class Labels:\", class_labels)\n",
    "model.fit(train_data, epochs=EPOCHS, validation_data=test_data)\n",
    "\n",
    "model.save('fine_tuned_efficientnet.h5')"
   ]
  }
 ],
 "metadata": {
  "kernelspec": {
   "display_name": "Python 3",
   "language": "python",
   "name": "python3"
  },
  "language_info": {
   "codemirror_mode": {
    "name": "ipython",
    "version": 3
   },
   "file_extension": ".py",
   "mimetype": "text/x-python",
   "name": "python",
   "nbconvert_exporter": "python",
   "pygments_lexer": "ipython3",
   "version": "3.11.7"
  }
 },
 "nbformat": 4,
 "nbformat_minor": 2
}
